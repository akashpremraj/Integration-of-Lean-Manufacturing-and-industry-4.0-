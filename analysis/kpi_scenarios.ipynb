{
 "cells": [
  {
   "cell_type": "markdown",
   "metadata": {},
   "source": [
    "# KPI Scenarios (SMED, TPM, FPY)\n",
    "What-if analysis on the synthetic dataset to show potential gains from:\n",
    "- **SMED**: reduce changeover by 15 minutes\n",
    "- **TPM**: reduce downtime by 10%\n",
    "- **FPY**: improve quality by +2 percentage points\n"
   ]
  },
  {
   "cell_type": "code",
   "execution_count": null,
   "metadata": {},
   "outputs": [],
   "source": [
    "import pandas as pd, matplotlib.pyplot as plt\n",
    "from pathlib import Path\n",
    "CSV = Path(__file__).resolve().parents[1] / 'data-samples' / 'line_production.csv'\n",
    "df = pd.read_csv(CSV, parse_dates=['date'])\n",
    "ideal_rate = {\"BodyShop\": 0.5, \"Assembly\": 0.8}\n",
    "\n",
    "def compute_oee(d):\n",
    "    d = d.copy()\n",
    "    d['planned_effective'] = d['planned_time_min'] - d['changeover_min']\n",
    "    d['availability'] = (d['run_time_min'] / d['planned_effective']).clip(upper=1)\n",
    "    d['performance'] = ((d['good_units'] + d['scrap_units']) / (d['line'].map(ideal_rate) * d['run_time_min'])).clip(upper=1)\n",
    "    d['quality'] = (d['good_units'] / (d['good_units'] + d['scrap_units'])).fillna(0)\n",
    "    d['oee'] = d['availability'] * d['performance'] * d['quality']\n",
    "    return d\n",
    "\n",
    "base = compute_oee(df)\n",
    "\n",
    "# Scenarios\n",
    "smed = df.copy(); smed['changeover_min'] = (smed['changeover_min'] - 15).clip(lower=0)\n",
    "smed = compute_oee(smed)\n",
    "\n",
    "tpm = df.copy(); tpm['downtime_min'] = (tpm['downtime_min'] * 0.9).round()\n",
    "tpm['run_time_min'] = tpm['planned_time_min'] - tpm['changeover_min'] - tpm['downtime_min']\n",
    "tpm = compute_oee(tpm)\n",
    "\n",
    "fpy = df.copy();\n",
    "fpy['good_units'] = (fpy['good_units'] * 1.02).round().astype(int)\n",
    "fpy = compute_oee(fpy)\n",
    "\n",
    "summary = pd.DataFrame({\n",
    "    'baseline_oee': base['oee'].mean(),\n",
    "    'smed_oee': smed['oee'].mean(),\n",
    "    'tpm_oee': tpm['oee'].mean(),\n",
    "    'fpy_oee': fpy['oee'].mean()\n",
    "}, index=['mean']).T\n",
    "summary"
   ]
  },
  {
   "cell_type": "code",
   "execution_count": null,
   "metadata": {},
   "outputs": [],
   "source": [
    "import matplotlib.pyplot as plt\n",
    "labels = ['Baseline','SMED','TPM','FPY']\n",
    "values = [\n",
    "    summary.loc['baseline_oee','mean'],\n",
    "    summary.loc['smed_oee','mean'],\n",
    "    summary.loc['tpm_oee','mean'],\n",
    "    summary.loc['fpy_oee','mean']\n",
    "]\n",
    "plt.figure()\n",
    "plt.bar(labels, values)\n",
    "plt.ylabel('OEE (0–1)')\n",
    "plt.title('OEE – What-if Scenarios')\n",
    "plt.show()"
   ]
  }
 ],
 "metadata": {
  "kernelspec": {"display_name": "Python 3", "language": "python", "name": "python3"},
  "language_info": {"name": "python", "version": "3.11"}
 },
 "nbformat": 4,
 "nbformat_minor": 5
}
