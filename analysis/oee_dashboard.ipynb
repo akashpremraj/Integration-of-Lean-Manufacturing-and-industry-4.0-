{
 "cells": [
  {
   "cell_type": "markdown",
   "metadata": {},
   "source": [
    "# OEE Dashboard (Synthetic Demo)\n",
    "Computes Availability, Performance, Quality and OEE from `data-samples/line_production.csv`\n",
    "and visualises daily trends for two lines."
   ]
  },
  {
   "cell_type": "code",
   "execution_count": null,
   "metadata": {},
   "outputs": [],
   "source": [
    "import pandas as pd, matplotlib.pyplot as plt\n",
    "from pathlib import Path\n",
    "CSV = Path(__file__).resolve().parents[1] / 'data-samples' / 'line_production.csv'\n",
    "df = pd.read_csv(CSV, parse_dates=['date'])\n",
    "df.head()"
   ]
  },
  {
   "cell_type": "code",
   "execution_count": null,
   "metadata": {},
   "outputs": [],
   "source": [
    "ideal_rate = {\"BodyShop\": 0.5, \"Assembly\": 0.8}\n",
    "df['planned_effective'] = df['planned_time_min'] - df['changeover_min']\n",
    "df['availability'] = (df['run_time_min'] / df['planned_effective']).clip(upper=1)\n",
    "df['performance'] = ((df['good_units'] + df['scrap_units']) /\n",
    "                     (df['line'].map(ideal_rate) * df['run_time_min'])).clip(upper=1)\n",
    "df['quality'] = (df['good_units'] / (df['good_units'] + df['scrap_units'])).fillna(0)\n",
    "df['oee'] = df['availability'] * df['performance'] * df['quality']\n",
    "df[['availability','performance','quality','oee']].describe()"
   ]
  },
  {
   "cell_type": "code",
   "execution_count": null,
   "metadata": {},
   "outputs": [],
   "source": [
    "for metric in ['availability','performance','quality','oee']:\n",
    "    pivot = df.pivot_table(index='date', columns='line', values=metric)\n",
    "    ax = pivot.plot(title=f'{metric.upper()} by line (daily)')\n",
    "    ax.set_xlabel('Date'); ax.set_ylabel(metric.upper()); plt.show()"
   ]
  }
 ],
 "metadata": {
  "kernelspec": {
   "display_name": "Python 3",
   "language": "python",
   "name": "python3"
  },
  "language_info": {
   "name": "python",
   "version": "3.11"
  }
 },
 "nbformat": 4,
 "nbformat_minor": 5
}
